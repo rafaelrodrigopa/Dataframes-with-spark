{
 "cells": [
  {
   "cell_type": "code",
   "execution_count": 0,
   "metadata": {
    "application/vnd.databricks.v1+cell": {
     "cellMetadata": {
      "byteLimit": 2048000,
      "rowLimit": 10000
     },
     "inputWidgets": {},
     "nuid": "4ae67618-0af5-43d4-acf9-2f772bf41283",
     "showTitle": false,
     "tableResultSettingsMap": {},
     "title": ""
    }
   },
   "outputs": [
    {
     "output_type": "stream",
     "name": "stdout",
     "output_type": "stream",
     "text": [
      "+-----+-----+\n| Nome|Idade|\n+-----+-----+\n|  Ana|   35|\n| João|   45|\n|Maria|   20|\n+-----+-----+\n\n"
     ]
    }
   ],
   "source": [
    "#Criando um dataframe\n",
    "from pyspark.sql import SparkSession\n",
    "\n",
    "#Inicializando a sessão spark\n",
    "spark = SparkSession.builder.appName('ExemploDataBricks').getOrCreate()\n",
    "\n",
    "#Criand um dataframe simples\n",
    "data = [(\"Ana\",35),(\"João\",45),(\"Maria\",20)]\n",
    "columns = [\"Nome\",\"Idade\"]\n",
    "\n",
    "df = spark.createDataFrame(data, columns)\n",
    "df.show()"
   ]
  }
 ],
 "metadata": {
  "application/vnd.databricks.v1+notebook": {
   "dashboards": [],
   "environmentMetadata": null,
   "language": "python",
   "notebookMetadata": {
    "pythonIndentUnit": 4
   },
   "notebookName": "Notebook sem título 2024-11-26 20:18:21",
   "widgets": {}
  }
 },
 "nbformat": 4,
 "nbformat_minor": 0
}
